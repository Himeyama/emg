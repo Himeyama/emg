{
 "cells": [
  {
   "cell_type": "markdown",
   "metadata": {},
   "source": [
    "## NMF解析\n",
    "### main~Correlation\n",
    "1. 各被験者のファイルの名前リストを受け渡し，NMF_analysisを呼び出す\n",
    "\n",
    "### NMF_analysis\n",
    "1. 前処理後のデータ（Preprocessed_bind）を読み込む\n",
    "1. NMFによりCoef（係数行列;W）とSynergy（基底;H）に分解\n",
    "1. 各試行データの各ランクに対して，基底/係数行列をcsv出力\n",
    "1. ランクの増加に伴うVAFの推移をグラフ/csv出力\n",
    "1. Overall_VAF>0.9, muscle_VAFの**最小値**>0.75を満たす最小のシナジーを求め，グラフ出力\n",
    "1. 1strideにおける係数行列の平均$\\pm$SDを計算/グラフ出力（ここはまだ未完成）\n",
    "\n",
    "### Correlation\n",
    "1. 歩行とスラックラインの各試行に対して，上で求めた最適な筋シナジー同士の相関係数を導出し，ヒートマップ/csv出力"
   ]
  },
  {
   "cell_type": "markdown",
   "metadata": {},
   "source": [
    "## 注意\n",
    "- ファイルはPreprocessed_bindから読み込む\n",
    "- **ID5**: **ADD**の筋電位が明らかにおかしいので除いて解析"
   ]
  },
  {
   "cell_type": "code",
   "execution_count": 1,
   "metadata": {},
   "outputs": [
    {
     "ename": "ERROR",
     "evalue": "Error in library(readr): there is no package called ‘readr’\n",
     "output_type": "error",
     "traceback": [
      "Error in library(readr): there is no package called ‘readr’\nTraceback:\n",
      "1. library(readr)"
     ]
    }
   ],
   "source": [
    "library(readr)\n",
    "library(Rmisc) #tidtverseより先に読み込む\n",
    "library(tidyverse)\n",
    "library(signal)\n",
    "library(magrittr)\n",
    "library(grid) \n",
    "library(NMF)\n",
    "library(dplyr)\n",
    "library(ggplot2)\n",
    "library(cowplot) \n",
    "library(corrplot) #相関係数のplotに使用\n",
    "library(squash)   #plot時の色指定に使用\n",
    "library(maptools)\n",
    "library(gplots)"
   ]
  },
  {
   "cell_type": "code",
   "execution_count": 2,
   "metadata": {},
   "outputs": [],
   "source": [
    "#筋シナジーや係数行列（mean±SD）のmultiplot\n",
    "multiplot <- function(..., plotlist=NULL, file, cols=1, layout=NULL,graph_text=NULL) {\n",
    "    plots <- c(list(...), plotlist) # Make a list from the ... arguments and plotlist\n",
    "    numPlots = length(plots)\n",
    "    if (is.null(layout)) {  # If layout is NULL, then use 'cols' to determine layout\n",
    "        layout <- matrix(seq(1, cols * ceiling(numPlots/cols)),\n",
    "                    ncol = cols, nrow = ceiling(numPlots/cols))\n",
    "    }\n",
    "    if (numPlots==1){\n",
    "        print(plots[[1]])\n",
    "    }else{\n",
    "        grid.newpage() # Set up the page\n",
    "        par(oma = c(0, 0, 4, 0))   # 下・左・上・右の順で余白を設定\n",
    "        pushViewport(viewport(layout = grid.layout(nrow(layout), ncol(layout))))\n",
    "        for (i in 1:numPlots) {  # Make each plot, in the correct location\n",
    "            matchidx <- as.data.frame(which(layout == i, arr.ind = TRUE)) # Get the i,j matrix positions of the regions that contain this subplot\n",
    "            print(plots[[i]], vp=viewport(layout.pos.row=matchidx$row, layout.pos.col=matchidx$col))\n",
    "        }\n",
    "    }       \n",
    "}"
   ]
  },
  {
   "cell_type": "code",
   "execution_count": 3,
   "metadata": {},
   "outputs": [],
   "source": [
    "#labelに該当するphaseの連続回数（1strideのstep数）を求める\n",
    "get_phase_tlist <- function(fdata_walk_labeled,label){\n",
    "    fdata_walk_labeled <- as.data.frame(fdata_walk_labeled)\n",
    "    phase <- fdata_walk_labeled[,ncol(fdata_walk_labeled)]\n",
    "    count <- 0\n",
    "    phase_tlist <- c()\n",
    "    phase_tlist_sum <- c()\n",
    "    for(i in 1:length(phase)){\n",
    "        if(phase[i]==-1&&(phase[i]==0||phase[i]==1)&&(phase[i]==0||phase[i]==1)){ #途中(おかしな場所)でlabelが-1であれば，その前までのphase_tlistを返す \n",
    "            print(\"Warning! The data contains invalid label.\") \n",
    "            break\n",
    "        }\n",
    "        if(phase[i]==label){\n",
    "            count <- count+1\n",
    "        }else if(i>1&&(phase[i-1]==label)&&(phase[i]!=label)){ #立脚期/または遊脚期が終わってからやっと長さ情報追加＝途中で終わった分は追加されない\n",
    "            phase_tlist <- append(phase_tlist,count)\n",
    "            phase_tlist_sum <- cumsum(phase_tlist) #累積和を計算\n",
    "        }else{\n",
    "            count <- 0\n",
    "        }\n",
    "    }\n",
    "\n",
    "    return(list(phase_tlist=phase_tlist, phase_tlist_sum=phase_tlist_sum))\n",
    "}"
   ]
  },
  {
   "cell_type": "code",
   "execution_count": 4,
   "metadata": {},
   "outputs": [],
   "source": [
    "#1strideにおける係数行列のmean±SDを計算/csv,グラフ出力\n",
    "Coef_mean_SD <- function(Coef,phase_tlist,phase_tlist_sum,gname_Coef_MEAN_SD,label,id,rand){\n",
    "    #保存先の作成\n",
    "    Syn_num <- ncol(Coef)\n",
    "    ifelse(label==0, x_axis <- \"Stance phase\", x_axis <- \"Swing phase\") \n",
    "    plots <- list()\n",
    "    \n",
    "    for (i in 1:Syn_num){ #各シナジーに対する処理\n",
    "        for (j in 2:length(phase_tlist)){ # 各strideに対する処理， 始めのstride（最初の1周期）は無視して計算\n",
    "            time <- 0:(phase_tlist[j]-1)\n",
    "            norm_time <- sapply(time,function(x) {return(x/max(time))}) #正規化して周期長を0から1に揃える\n",
    "            onecycle <- (phase_tlist_sum[j-1]+1):phase_tlist_sum[j]\n",
    "            onecycle_Coef <- Coef[onecycle,i]\n",
    "            sp <- splinefun(norm_time,onecycle_Coef) #関数spを返す \n",
    "            xest <- seq(0,1,by=0.01) #新しい時間軸\n",
    "            yest <- sp(xest) #新しい時間軸に対するCoefの値\n",
    "\n",
    "            if (j==2){\n",
    "                Spline_list <- cbind(xest,yest)\n",
    "            }else{\n",
    "                Spline_list <- bind_cols(as.data.frame(Spline_list), as.data.frame(yest))\n",
    "            }\n",
    "        }\n",
    "        \n",
    "        #平均値, SDを計算    \n",
    "        Stride <- paste(\"Stride\",1:(length(phase_tlist)-1),sep=\"\")\n",
    "        colnames(Spline_list) <- append(Stride,\"time\",after=0)\n",
    "        mean <- apply(Spline_list[,2:length(phase_tlist)], MARGIN=1, mean) #各行（時間）に対して平均値を計算\n",
    "        sd <- apply(Spline_list[,2:length(phase_tlist)], MARGIN=1, sd)\n",
    "        \n",
    "        #平均値,SDのggplot作成\n",
    "        if(i==1){\n",
    "            plot_title_Coef <- paste(\"Coef\",i,\"   \",id,\"_\",rand,sep=\"\")\n",
    "        }else{\n",
    "            plot_title_Coef <- paste(\"Coef\",i,sep=\"\")\n",
    "        }\n",
    "        Coef_data <- data.frame(stance_phase=xest, mean=mean, sd=sd)\n",
    "        Coef_plot <- ggplot(data=Coef_data,)+\n",
    "                        geom_line(aes(x=stance_phase,y=mean))+\n",
    "                        geom_line(aes(x=stance_phase,y=mean+sd),colour=\"gray57\")+\n",
    "                        geom_line(aes(x=stance_phase,y=mean-sd),colour=\"gray57\")+\n",
    "                        xlab(x_axis) + ylab(\"Activity of Synergy\")+\n",
    "                        labs(title=plot_title_Coef)+ \n",
    "                        theme(axis.title=element_text(size=3,face=\"plain\"))+\n",
    "                        theme_minimal() #背景の色変更\n",
    "        plots[[i]] <- Coef_plot\n",
    "    }\n",
    "\n",
    "    #平均値，SDのmultiplot\n",
    "    gname <- gname_Coef_MEAN_SD\n",
    "    pdf(gname) \n",
    "    multiplot(plotlist=plots,cols=2)\n",
    "    dev.off() \n",
    "}"
   ]
  },
  {
   "cell_type": "code",
   "execution_count": 5,
   "metadata": {},
   "outputs": [],
   "source": [
    "NMF_analysis <- function(header,file_name,muscle_num,id,label,task,rand){\n",
    "    #データの読み込み\n",
    "    print(file_name)\n",
    "    if(task==\"walk\"){\n",
    "        fdata_walk_labeled <- read_csv(file_name,col_types=\"dddddddddddddddddddi\")%>%\n",
    "                                set_colnames(header)\n",
    "        res <- get_phase_tlist(fdata_walk_labeled,label) #1strideごとのstep数を取得\n",
    "        phase_tlist <- res$phase_tlist \n",
    "        phase_tlist_sum <- res$phase_tlist_sum\n",
    "        Preprocessed <- fdata_walk_labeled%>%\n",
    "                        dplyr::filter(phase==label)%>%\n",
    "                        select(-c(time,y_pos,x_pos,phase))\n",
    "    }else{\n",
    "        Preprocessed <- read_csv(file_name,col_types=\"ddddddddddddddddddd\")%>%\n",
    "                        set_colnames(header)%>%\n",
    "                        select(-c(time,ankle_X,ankle_Z)) \n",
    "    }\n",
    "    \n",
    "    if(id==\"ID3\"){ \n",
    "        Preprocessed <- Preprocessed%>%select(-c(SOL,EO)) #ID3からはSOLとEOを除く\n",
    "    }else if(id==\"ID5\"){\n",
    "        Preprocessed <- Preprocessed%>%select(-c(ADD,EO)) #ID5からはADDとEOを除く        \n",
    "    }else{\n",
    "        Preprocessed <- Preprocessed%>%select(-c(EO)) #それ以外の被験者からはEOのみ除く       \n",
    "    }\n",
    "    \n",
    "    flag <- 0 #最適な筋シナジー数をマーク\n",
    "    list_overall_VAF <- c()\n",
    "    list_second_min_VAFm <- c()\n",
    "    list_min_VAFm <- c()\n",
    "    \n",
    "    #保存ディレクトリの作成\n",
    "    path <- paste(\"/Users/chika/19-yamane-tidyverse/2001-02/\",id,\"/Preprocessed_bind/\",sep=\"\")\n",
    "    fname <- file_name%>%sub(path,\"\",.)\n",
    "    dname <- fname%>%sub(\".csv\",\"\",.)\n",
    "    path_Coef <- path%>%sub(\"Preprocessed_bind\",paste(rand,\"/Coef/\",dname,sep=\"\"),.)\n",
    "    path_Synergy <- path%>%sub(\"Preprocessed_bind\",paste(rand,\"/Synergy/\",dname,sep=\"\"),.)\n",
    "    path_Coef_graph <- path%>%sub(\"Preprocessed_bind\",paste(rand,\"/Coef_graph\",sep=\"\"),.)\n",
    "    path_Synergy_graph <- path%>%sub(\"Preprocessed_bind\",paste(rand,\"/Synergy_graph\",sep=\"\"),.)\n",
    "    path_list <- list(path_Coef, path_Synergy, path_Coef_graph, path_Synergy_graph)\n",
    "    for (path in path_list){\n",
    "        if (file.exists(path) == FALSE) dir.create(path,recursive=T)    \n",
    "    }\n",
    "    \n",
    "    #NMF解析\n",
    "    for (i in 1:muscle_num){\n",
    "        NMF <- nmf(Preprocessed,rank=i)#,seed=1234)#seed=(数字)とすることで，毎回の初期値を(数字)に固定\n",
    "        Coef <- basis(NMF)\n",
    "        Synergy <- coef(NMF)\n",
    "        e <- Preprocessed - (Coef %*% Synergy) #余剰誤差\n",
    "        e <- as_tibble(e)\n",
    "        colsum_e_sqr <- transmute_all(e,list(~.x*.x))%>%transmute_all(.,~sum(.x))%>%slice(.,1)#%>%as.numeric(count_data)\n",
    "        allsum_e_sqr <- colsum_e_sqr%>%sum(.)  \n",
    "        colsum_Preprocessed_sqr <- transmute_all(Preprocessed,list(~.x*.x))%>%transmute_all(.,~sum(.x))%>%slice(.,1)#%>%as.numeric(count_data)\n",
    "        allsum_Preprocessed_sqr <- colsum_Preprocessed_sqr%>%sum(.) \n",
    "        \n",
    "        #VAFの計算\n",
    "        overall_VAF <- 1.0-(allsum_e_sqr/allsum_Preprocessed_sqr)\n",
    "        muscle_VAF <- 1.0-(colsum_e_sqr/colsum_Preprocessed_sqr)\n",
    "        sort_muscle_VAF <- sort(muscle_VAF)\n",
    "        \n",
    "        # muscle VAFを表示\n",
    "        min_VAFm <- as.numeric(sort_muscle_VAF[1]) \n",
    "        second_min_VAFm <- as.numeric(sort_muscle_VAF[2]) \n",
    "        print(paste(\"Synergy\",i,sep=\"\"))\n",
    "        print(\"minimam VAF\")\n",
    "        print(sort_muscle_VAF[1])\n",
    "        print(\"second minimam VAF\")\n",
    "        print(sort_muscle_VAF[2])\n",
    "        \n",
    "#         print(paste(\"overall_VAF=\",overall_VAF, sep=\"\"))\n",
    "#         print(paste(\"muscle_VAF(second min)=\",second_min_VAFm, sep=\"\"))\n",
    "#         print(paste(\"muscle_VAF(min)=\",min_VAFm, sep=\"\"))\n",
    "        \n",
    "        list_overall_VAF <- append(list_overall_VAF, overall_VAF)\n",
    "        list_second_min_VAFm <- append(list_second_min_VAFm, second_min_VAFm)\n",
    "        list_min_VAFm <- append(list_min_VAFm, min_VAFm)\n",
    "        \n",
    "        #保存ファイルの名前などの設定\n",
    "        if(str_detect(fname, pattern=\"walk\")){      #歩行\n",
    "            if(label==0){ \n",
    "                pdf_name <- paste(\"_rank=\",i,\"_stance.pdf\",sep=\"\")\n",
    "                fname_Coef <- paste(path_Coef,fname,sep=\"\")%>%sub(\".csv\", paste(\"_rank=\",i,\"_stance.csv\",sep=\"\"),.)\n",
    "                fname_Synergy <- paste(path_Synergy,fname,sep=\"\")%>%sub(\".csv\", paste(\"_rank=\",i,\"_stance.csv\",sep=\"\"),.)\n",
    "                fname_VAF <- paste(path_Synergy,fname,sep=\"\")%>%sub(\".csv\", paste(\"_stance_VAF.csv\",sep=\"\"),.)\n",
    "                gname_VAF <- paste(path_Synergy_graph,fname,sep=\"\")%>%sub(\".csv\", paste(\"_stance_VAF.pdf\",sep=\"\"),.)              \n",
    "                dname_labeled <- paste(dname,\"_stance\",sep=\"\")\n",
    "            }else{\n",
    "                pdf_name <- paste(\"_rank=\",i,\"_swing.pdf\",sep=\"\")\n",
    "                fname_Coef <- paste(path_Coef,fname,sep=\"\")%>%sub(\".csv\", paste(\"_rank=\",i,\"_swing.csv\",sep=\"\"),.)\n",
    "                fname_Synergy <- paste(path_Synergy,fname,sep=\"\")%>%sub(\".csv\", paste(\"_rank=\",i,\"_swing.csv\",sep=\"\"),.)\n",
    "                fname_VAF <- paste(path_Synergy,fname,sep=\"\")%>%sub(\".csv\", paste(\"_swing_VAF.csv\",sep=\"\"),.)\n",
    "                gname_VAF <- paste(path_Synergy_graph,fname,sep=\"\")%>%sub(\".csv\", paste(\"_swing_VAF.pdf\",sep=\"\"),.)\n",
    "                dname_labeled <- paste(dname,\"_swing\",sep=\"\")\n",
    "            }\n",
    "        }else{                                      #スラックライン\n",
    "            pdf_name <- paste(\"_rank=\",i,\".pdf\",sep=\"\")\n",
    "            fname_Coef <- paste(path_Coef,fname,sep=\"\")%>%sub(\".csv\", paste(\"_rank=\",i,\".csv\",sep=\"\"),.)\n",
    "            fname_Synergy <- paste(path_Synergy,fname,sep=\"\")%>%sub(\".csv\", paste(\"_rank=\",i,\".csv\",sep=\"\"),.)\n",
    "            fname_VAF <- paste(path_Synergy,fname,sep=\"\")%>%sub(\".csv\",\"_VAF.csv\",.)  \n",
    "            gname_VAF <- paste(path_Synergy_graph,fname,sep=\"\")%>%sub(\".csv\",\"_VAF.pdf\",.)   \n",
    "            dname_labeled <- dname            \n",
    "        }\n",
    "        \n",
    "        #筋シナジーと係数行列のcsv出力\n",
    "        write_csv(as.data.frame(Synergy),fname_Synergy)\n",
    "        Coef <- Coef%>%set_colnames(paste(\"Coef\",1:i,sep=\"\"))\n",
    "        write_csv(as.data.frame(Coef),fname_Coef)\n",
    "        \n",
    "        #最適な筋シナジー数を判定\n",
    "        if ((overall_VAF>0.9)&&(second_min_VAFm>0.75)){\n",
    "            flag <- flag+1\n",
    "            print(paste(\"over criterions! The number of Synergy is \",i,sep=\"\"))\n",
    "            \n",
    "            #以下は初めて基準を満たしたシナジーに対する処理\n",
    "            if (flag==1){\n",
    "                best_num_synergy <- i\n",
    "                best_Synergy <- as_tibble(Synergy)   \n",
    "                \n",
    "                #筋シナジーのグラフ出力\n",
    "                gname <- fname%>%sub(\".csv\",pdf_name,.)\n",
    "                gname_Synergy <- paste(path_Synergy_graph,gname,sep=\"\")   \n",
    "#                 print(paste(\"gname_Synergy:\",gname_Synergy,sep=\"\"))\n",
    "                pdf(gname_Synergy)\n",
    "                graph_text1 <- paste(id,\"/\",dname_labeled,\" \",rand)\n",
    "                graph_text2 <- paste(\"overall_VAF=\",signif(overall_VAF,digits=4), \", min VAFm=\",signif(min_VAFm,digits=4),sep=\"\")\n",
    "                ifelse(i %% 2 == 0,par(mfrow=c(2,i/2)),par(mfrow=c(2,(i+1)/2)))\n",
    "                par(oma = c(1.0, 2.0, 0.2, 0)) # 下・左・上・右の順で余白を設定\n",
    "                if(id==\"ID3\"){\n",
    "                    col_list <- c(\"yellow1\",\"gold\",\"plum1\",\"hotpink\",\"maroon1\",\"deeppink4\",\"cadetblue1\",\"turquoise2\",\"blue3\",\"blue4\",\"chartreuse\",\"green3\",\"forestgreen\",\"gray48\")\n",
    "                }else if(id==\"ID5\"){\n",
    "                    col_list <- c(\"yellow1\",\"gold\",\"plum1\",\"hotpink\",\"maroon1\",\"cadetblue1\",\"turquoise2\",\"darkturquoise\",\"blue3\",\"blue4\",\"chartreuse\",\"green3\",\"forestgreen\",\"gray48\")                    \n",
    "                }else{\n",
    "                    col_list <- c(\"yellow1\",\"gold\",\"plum1\",\"hotpink\",\"maroon1\",\"deeppink4\",\"cadetblue1\",\"turquoise2\",\"darkturquoise\",\"blue3\",\"blue4\",\"chartreuse\",\"green3\",\"forestgreen\",\"gray48\")\n",
    "                }\n",
    "                for (num in 1:i){\n",
    "                    barplot(Synergy[num,1:muscle_num],main=paste(\"Synergy\",num,sep=\"\"),cex.names=0.6,cex.axis=1, horiz=T, las=1, col=col_list)  \n",
    "                }\n",
    "                mtext(graph_text1,\n",
    "                     outer = TRUE,      # 作図領域の外の余白に書く\n",
    "                     side = 3,          # 上の余白に書く\n",
    "                     cex = 1,         # 字の大きさ\n",
    "                     line = -1.5)        # 外に向かって 3行離れたところに書く\n",
    "                mtext(graph_text2,\n",
    "                     outer = TRUE,      # 作図領域の外の余白に書く\n",
    "                     side = 1,          # 下の余白に書く\n",
    "                     cex = 1.1,         # 字の大きさ\n",
    "                     line = -1)        # 外に向かって 1行離れたところに書く    \n",
    "                dev.off()    \n",
    "\n",
    "                #係数行列のグラフ出力 \n",
    "                gname_Coef <- paste(path_Coef_graph,gname,sep=\"\")\n",
    "                plots_coef <- list()\n",
    "                for (num in 1:i){\n",
    "                    time <- 1:nrow(Coef)\n",
    "                    Coef_data <- data.frame(\n",
    "                        time = time,\n",
    "                        Coef = c(Coef[,num])\n",
    "                    )\n",
    "                    #スペース足りないのでVAFの値を有効数字4桁に丸める\n",
    "                    graph_text <- paste(id,\"/\",fname,\"  overall_VAF=\",signif(overall_VAF,digits=4),\", muscle_VAF(min)=\",signif(min_VAFm,digits=4),sep=\"\")\n",
    "                    ifelse(num==1,\n",
    "                        plot_title_Coef <- paste(\"Coef\",num,\"   \",graph_text,sep=\"\"),\n",
    "                        plot_title_Coef <- paste(\"Coef\",num,sep=\"\"))\n",
    "                    Coef_plot <- ggplot(Coef_data,aes(x=time,y=Coef),title=num)+\n",
    "                                    geom_line()+labs(title=plot_title_Coef)+ \n",
    "                                    theme(axis.title=element_text(size=3,face=\"plain\"))\n",
    "                    plots_coef[[num]] <- Coef_plot\n",
    "                }\n",
    "                pdf(gname_Coef)\n",
    "                multiplot(plotlist=plots_coef,cols=1,graph_text=graph_text)\n",
    "                dev.off()                 \n",
    "                \n",
    "                #歩行の1strideにおける係数行列の平均±SDを計算\n",
    "                gname_Coef_MEAN_SD <- paste(path_Coef_graph,sub(\".pdf\",\"_MEAN_SD.pdf\",gname),sep=\"\")\n",
    "                if(str_detect(gname_Coef_MEAN_SD,pattern=\"walk\")){\n",
    "#                     print(phase_tlist)\n",
    "#                     print(phase_tlist_sum)\n",
    "                    Coef_mean_SD(Coef,phase_tlist,phase_tlist_sum,gname_Coef_MEAN_SD,label,id,rand)\n",
    "                }\n",
    "            }\n",
    "        }\n",
    "    }\n",
    "\n",
    "    #VAFの推移グラフ\n",
    "    VAF_list <- rbind(list_overall_VAF,list_min_VAFm,list_second_min_VAFm)\n",
    "    colnames(VAF_list) <- paste(\"Syn\",1:muscle_num)\n",
    "    pdf(gname_VAF)\n",
    "    plot(1:muscle_num,VAF_list[1,],type=\"o\",ylim=c(0,1),col=\"red\",ann=F) #overall VAF    \n",
    "    par(new=T)\n",
    "    plot(1:muscle_num,VAF_list[2,],type=\"o\",ylim=c(0,1),col=\"blue\",ann=F) #second min VAFm\n",
    "    par(new=T)\n",
    "    plot(1:muscle_num,VAF_list[3,],type=\"o\",ylim=c(0,1),col=\"green\",xlab=\"The number of Synergy\", ylab=\"VAF value\") #min VAFm                             \n",
    "    abline(h=0.9,col=\"deeppink4\",lty=\"dashed\")\n",
    "    abline(h=0.75,col=\"blue4\",lty=\"dashed\")\n",
    "    labels <- c(\"Overall VAF\",\"min VAFm\",\"second min VAFm\")\n",
    "    legend(\"bottomright\", legend=labels, col=c(\"red\",\"blue\",\"green\"), pch=c(1,1,1), lty=c(1,1,1))\n",
    "    title(main=graph_text1)\n",
    "    dev.off()    \n",
    "          \n",
    "    #VAFの推移をcsv出力\n",
    "    VAF_list <- as.data.frame(VAF_list)\n",
    "    write_csv(VAF_list,fname_VAF)\n",
    "\n",
    "    return(list(syn_num=best_num_synergy,Synergy=best_Synergy))\n",
    "}"
   ]
  },
  {
   "cell_type": "code",
   "execution_count": 6,
   "metadata": {},
   "outputs": [
    {
     "ename": "ERROR",
     "evalue": "Error in parse(text = x, srcfile = src): <text>:1:56: unexpected input\n1: id_list <- c(\"ID1\",\"ID3\",\"ID4\",\"ID5\",\"ID6\",\"ID7\",\"ID8\")　\n                                                           ^\n",
     "output_type": "error",
     "traceback": [
      "Error in parse(text = x, srcfile = src): <text>:1:56: unexpected input\n1: id_list <- c(\"ID1\",\"ID3\",\"ID4\",\"ID5\",\"ID6\",\"ID7\",\"ID8\")　\n                                                           ^\nTraceback:\n"
     ]
    }
   ],
   "source": [
    "id_list <- c(\"ID1\",\"ID3\",\"ID4\",\"ID5\",\"ID6\",\"ID7\",\"ID8\")　#被験者のIDリストを入力\n",
    "for (id in id_list){　　#各被験者のデータ\n",
    "    print(\"enter\")\n",
    "    file_path <- paste(\"/Users/chika/19-yamane-tidyverse/2001-02/\", id,\"/Preprocessed_bind\", sep=\"\")\n",
    "    file_list <- list.files(path=file_path, pattern=\".csv\",recursive=F,full.names=T) #フルパスで取得\n",
    "    fname_walk <- str_subset(file_list,pattern=\"walk\")\n",
    "    header_walk <- c(\"time\",\"y_pos\",\"x_pos\",\"TA\",\"PERL\",\"VL\",\"VM\",\"RF\",\"ADD\",\"LG\",\"MG\",\"SOL\",\"BF\",\"ST\",\"TFL\",\"Gmed\",\"GM\",\"ERSP\",\"EO\",\"phase\")\n",
    "\n",
    "    # 歩行データのNMF解析\n",
    "    if(id==\"ID3\"||id==\"ID5\"){\n",
    "        muscle_num <- 14\n",
    "    }else{\n",
    "        muscle_num <- 15\n",
    "    }\n",
    "    \n",
    "    #ここに各乱数に対応するfor文を入れる\n",
    "    random_list <- c(paste(\"Random\",1:10,sep=\"\"))\n",
    "    for (rand in random_list){\n",
    "        print(rand)\n",
    "        NMF_walk_stance <- NMF_analysis(header_walk,fname_walk,muscle_num,id,label=0,task=\"walk\",rand) #立脚期\n",
    "        syn_num_stance <- NMF_walk_stance$syn_num\n",
    "        Synergy_stance <- NMF_walk_stance$Synergy\n",
    "\n",
    "        NMF_walk_swing <- NMF_analysis(header_walk,fname_walk,muscle_num,id,label=1,task=\"walk\",rand) #遊脚期\n",
    "        syn_num_swing <- NMF_walk_swing$syn_num\n",
    "        Synergy_swing <- NMF_walk_swing$Synergy\n",
    "\n",
    "        for (file in file_list){\n",
    "            # スラックラインデータのNMF解析\n",
    "            if(str_detect(file,pattern=\"slack\")){\n",
    "                fname_slack <- file\n",
    "                header_slack <- c(\"time\",\"ankle_X\",\"ankle_Z\",\"TA\",\"PERL\",\"VL\",\"VM\",\"RF\",\"ADD\",\"LG\",\"MG\",\"SOL\",\"BF\",\"ST\",\"TFL\",\"Gmed\",\"GM\",\"ERSP\",\"EO\")\n",
    "                NMF_slack <- NMF_analysis(header_slack,fname_slack,muscle_num,id,label=-2,task=\"slack\",rand)\n",
    "                syn_num_slack <- NMF_slack$syn_num\n",
    "                Synergy_slack <- NMF_slack$Synergy\n",
    "            }\n",
    "        }\n",
    "    }\n",
    "}"
   ]
  },
  {
   "cell_type": "markdown",
   "metadata": {},
   "source": [
    "## 乱数間で最適な筋シナジー同士の相関を求める"
   ]
  },
  {
   "cell_type": "code",
   "execution_count": 7,
   "metadata": {},
   "outputs": [],
   "source": [
    "#シナジー数が最小 かつ min VAFmが最大となる乱数の番号を取得\n",
    "min_Synergy <- function(random_list,syn_num,big_task,small_task,col_types){\n",
    "    #シナジー数が最小となる乱数番号を取得\n",
    "    min_num <- min(syn_num)\n",
    "    min_ind <- which(syn_num==min_num)\n",
    "    min_rand <- random_list[c(min_ind)]\n",
    "\n",
    "    VAFm_list <- c()\n",
    "    if(length(min_rand)>1){\n",
    "        for (rand in min_rand){\n",
    "            if(big_task==\"walk4.5km\"){\n",
    "                file_path <- paste(\"/Users/chika/19-yamane-tidyverse/2001-02/\",id,\"/\",rand,\"/Synergy/\",big_task, sep=\"\")\n",
    "                VAF_flist <- list.files(file_path,pattern=\"VAF\",recursive=F,full.names=T)\n",
    "                VAF_fname <- str_subset(VAF_flist,pattern=small_task)\n",
    "\n",
    "            }else if(big_task==\"slack\"){\n",
    "                file_path <- paste(\"/Users/chika/19-yamane-tidyverse/2001-02/\",id,\"/\",rand,\"/Synergy/\",small_task, sep=\"\")\n",
    "                VAF_flist <- list.files(file_path,pattern=\"VAF\",recursive=F,full.names=T)\n",
    "                VAF_fname <- str_subset(VAF_flist,pattern=small_task) \n",
    "            }\n",
    "            VAF <- read_csv(VAF_fname,col_types=col_types)\n",
    "            min_VAFm <- as.numeric(VAF[2,min_num])\n",
    "            VAFm_list <- append(VAFm_list,min_VAFm)  # min VAFmを追加       \n",
    "        }\n",
    "\n",
    "        # min VAFmが最大となる乱数番号を取得\n",
    "        max_VAFm <- max(VAFm_list)\n",
    "        max_VAFm_ind <- which(VAFm_list==max_VAFm)\n",
    "        if((length(max_VAFm_ind)>1) && (syn_num==1)) max_VAFm_ind <- max_VAFm_ind[1]\n",
    "        max_VAFm_rand <- min_rand[max_VAFm_ind]\n",
    "        best_rand <- max_VAFm_rand\n",
    "\n",
    "    }else{\n",
    "        best_rand <- min_rand\n",
    "    }\n",
    "\n",
    "    return(list(min_num=min_num,best_rand=best_rand))\n",
    "}"
   ]
  },
  {
   "cell_type": "code",
   "execution_count": 8,
   "metadata": {},
   "outputs": [],
   "source": [
    "Correlation_best <- function(fname_slack,walk_syn_num,Synergy_walk,slack_syn_num,Synergy_slack,id,phase,walk_best_rand,slack_best_rand){\n",
    "    \n",
    "    path <- paste(\"/Users/chika/19-yamane-tidyverse/2001-02/\",id,\"/correlation_best/\",sep=\"\")    \n",
    "    fname_cor <- paste(path,phase,fname_slack,sep=\"\")\n",
    "    gname_cor <- sub(\"correlation_best\",\"correlation_best_graph\",fname_cor)%>%sub(\".csv\",\".pdf\",.)\n",
    "    cor_path <- paste(path,phase,sep=\"\")\n",
    "    corg_path <- paste(sub(\"correlation_best\",\"correlation_best_graph\",cor_path),sep=\"\")\n",
    "    \n",
    "    dlist <- list(cor_path,corg_path)\n",
    "    for (dir in dlist){\n",
    "        if (file.exists(dir) == FALSE) dir.create(dir,recursive=T)        \n",
    "    }\n",
    "    \n",
    "    print(walk_syn_num)\n",
    "    print(slack_syn_num)\n",
    "        \n",
    "    cor_matrix <- matrix(rep(2,slack_syn_num*walk_syn_num),nrow=slack_syn_num,ncol=walk_syn_num) #相関係数を格納するための行列を作成\n",
    "    for (s_num in 1:slack_syn_num){\n",
    "        for (w_num in 1:walk_syn_num){\n",
    "            slack <- t(Synergy_slack[s_num,])\n",
    "            walk <- t(Synergy_walk[w_num,])\n",
    "            correlation <- cor(slack,walk)\n",
    "            cor_matrix[s_num,w_num] <- correlation\n",
    "        }\n",
    "    }\n",
    "    colnames(cor_matrix) <- paste(\"walk_syn\",1:walk_syn_num,sep=\"\")\n",
    "    rownames(cor_matrix) <- paste(\"slack_syn\",1:slack_syn_num,sep=\"\")\n",
    "\n",
    "    #相関係数をプロット\n",
    "    pdf(gname_cor)\n",
    "    par(oma = c(1.0, 2.0, 0.2, 0)) # 下・左・上・右の順で余白を設定\n",
    "    cut <- paste(\"_bind_rank=\",slack_syn_num,\".csv\",sep=\"\")\n",
    "    title <- fname_slack%>%sub(path,\"\",.)%>%sub(\"/\",\"\",.)%>%sub(cut,\"\",.)\n",
    "    print(title)\n",
    "    print(cut)\n",
    "    cor_title <- ifelse(phase==\"stance\",paste(id,\"/\",slack_best_rand,\"_\",title,\" vs \",walk_best_rand,\"_walk_stance\",sep=\"\"),\n",
    "                    paste(id,\"/\",slack_best_rand,\"_\",title,\" vs \",walk_best_rand,\"_walk_swing\",sep=\"\"))\n",
    "    col <- gplots::colorpanel(n=256, low=\"deepskyblue\", mid=\"white\", high=\"violetred\")\n",
    "    cex.before <- par(\"cex\") #テキストのサイズを小さくする\n",
    "    par(cex = 0.7) \n",
    "    corrplot(cor_matrix,method=\"shade\",shade.col=NA,#title=cor_title,\n",
    "             tl.col=\"black\",tl.srt=45,\n",
    "             col=col,number.digits=4,addCoef.col=\"black\") #相関係数を有効数字4桁で表示\n",
    "    mtext(cor_title,\n",
    "        outer = TRUE,      # 作図領域の外の余白に書く\n",
    "        side = 3,          # 上の余白に書く\n",
    "        cex = 1.1,         # 字の大きさ\n",
    "        line = -3)         # 外に向かって3行離れたところに書く \n",
    "    dev.off()    \n",
    "\n",
    "    #結果を出力\n",
    "    cor_matrix <- as_tibble(cor_matrix)\n",
    "    write_csv(cor_matrix,fname_cor)\n",
    "}"
   ]
  },
  {
   "cell_type": "code",
   "execution_count": 9,
   "metadata": {},
   "outputs": [],
   "source": [
    "#最適なシナジーのplot\n",
    "plot_Synergy <- function(fpath,fname,syn_num,best_rand,Synergy,id,muscle_num){\n",
    "    task <- fname%>%sub(fpath,\"\",.)%>%sub(\".csv\",\"\",.)%>%sub(\"/\",\"\",.)\n",
    "    print(task)\n",
    "    gpath <- paste(\"/Users/chika/19-yamane-tidyverse/2001-02/\",id,\"/Synergy_best_graph/\",sep=\"\")\n",
    "    gname <- paste(gpath,task,\".pdf\",sep=\"\")\n",
    "    if (file.exists(gpath) == FALSE) dir.create(gpath,recursive=T)  \n",
    "                \n",
    "    pdf(gname)\n",
    "    graph_text <- paste(id,\"/\",task,\" \",best_rand)\n",
    "    ifelse(syn_num%%2==0, par(mfrow=c(2,syn_num/2)), par(mfrow=c(2,(syn_num+1)/2)))\n",
    "    par(oma = c(1.0, 2.0, 0.2, 0)) # 下・左・上・右の順で余白を設定\n",
    "    if(id==\"ID3\"){\n",
    "        col_list <- c(\"yellow1\",\"gold\",\"plum1\",\"hotpink\",\"maroon1\",\"deeppink4\",\"cadetblue1\",\"turquoise2\",\"blue3\",\"blue4\",\"chartreuse\",\"green3\",\"forestgreen\",\"gray48\")\n",
    "    }else if(id==\"ID5\"){\n",
    "        col_list <- c(\"yellow1\",\"gold\",\"plum1\",\"hotpink\",\"maroon1\",\"cadetblue1\",\"turquoise2\",\"darkturquoise\",\"blue3\",\"blue4\",\"chartreuse\",\"green3\",\"forestgreen\",\"gray48\")                    \n",
    "    }else{\n",
    "        col_list <- c(\"yellow1\",\"gold\",\"plum1\",\"hotpink\",\"maroon1\",\"deeppink4\",\"cadetblue1\",\"turquoise2\",\"darkturquoise\",\"blue3\",\"blue4\",\"chartreuse\",\"green3\",\"forestgreen\",\"gray48\")\n",
    "    }\n",
    "    \n",
    "    for (num in 1:syn_num){\n",
    "        Syn <- as.numeric(Synergy[num,])\n",
    "        print(Syn)\n",
    "        barplot(Syn,main=paste(\"Synergy\",num,sep=\"\"),cex.names=0.6,cex.axis=1, horiz=T, las=1, col=col_list,names.arg=colnames(Synergy))  \n",
    "    }\n",
    "    mtext(graph_text,\n",
    "         outer = TRUE,      # 作図領域の外の余白に書く\n",
    "         side = 3,          # 上の余白に書く\n",
    "         cex = 1,         # 字の大きさ\n",
    "         line = -1.5)        # 外に向かって 3行離れたところに書く\n",
    "    dev.off()   \n",
    "}"
   ]
  },
  {
   "cell_type": "code",
   "execution_count": 10,
   "metadata": {},
   "outputs": [
    {
     "ename": "ERROR",
     "evalue": "Error in parse(text = x, srcfile = src): <text>:1:56: unexpected input\n1: id_list <- c(\"ID1\",\"ID3\",\"ID4\",\"ID5\",\"ID6\",\"ID7\",\"ID8\")　\n                                                           ^\n",
     "output_type": "error",
     "traceback": [
      "Error in parse(text = x, srcfile = src): <text>:1:56: unexpected input\n1: id_list <- c(\"ID1\",\"ID3\",\"ID4\",\"ID5\",\"ID6\",\"ID7\",\"ID8\")　\n                                                           ^\nTraceback:\n"
     ]
    }
   ],
   "source": [
    "id_list <- c(\"ID1\",\"ID3\",\"ID4\",\"ID5\",\"ID6\",\"ID7\",\"ID8\")　#被験者のIDリストを入力\n",
    "\n",
    "for (id in id_list){　　#各被験者のデータ\n",
    "    print(id)\n",
    "    if(id==\"ID3\"||id==\"ID5\"){\n",
    "        col_types <- \"dddddddddddddd\"\n",
    "        muscle_num <- 14\n",
    "    }else{\n",
    "        col_types <- \"ddddddddddddddd\"\n",
    "        muscle_num <- 15\n",
    "    }\n",
    "           \n",
    "    #シナジーのグラフが保存されているディレクトリ\n",
    "    file_path <- paste(\"/Users/chika/19-yamane-tidyverse/2001-02/\",id,\"/Preprocessed_bind\", sep=\"\")\n",
    "    task_list <- list.files(path=file_path, pattern=\".csv\",recursive=F,full.names=F) #相対パスで取得\n",
    "    walk_file <- str_subset(task_list,pattern=\"walk\")\n",
    "    stance_num <- c()\n",
    "    swing_num <- c()\n",
    "    walk_gname <- c()\n",
    "    random_list <- c(paste(\"Random\",1:10,sep=\"\"))\n",
    "    \n",
    "    #歩行のシナジー数を取得\n",
    "    for (rand in random_list){\n",
    "        #シナジーのグラフが保存されているディレクトリ\n",
    "        file_path <- paste(\"/Users/chika/19-yamane-tidyverse/2001-02/\",id,\"/\",rand,\"/Synergy_graph\", sep=\"\")\n",
    "        file_list <- list.files(file_path,pattern=\".pdf\",recursive=F,full.names=F)\n",
    "        file_list <- str_subset(file_list,pattern=\"VAF\",negate=T)\n",
    "        walk_gname <- str_subset(file_list,pattern=\"walk\")\n",
    "        for (file in walk_gname){\n",
    "            file_csv <- sub(\"pdf\",\"csv\",file)\n",
    "            read_fname <- paste(sub(\"Synergy_graph\",\"Synergy\",file_path),\"/walk4.5km/\",file_csv,sep=\"\")\n",
    "            num <- read_csv(read_fname,col_types=col_types)%>%nrow(.)\n",
    "            if(str_detect(read_fname,pattern=\"stance\")) stance_num <- append(stance_num,num)\n",
    "            if(str_detect(read_fname,pattern=\"swing\")) swing_num <- append(swing_num,num)\n",
    "        }\n",
    "    }\n",
    "    \n",
    "    #歩行の最適なシナジーを決定\n",
    "    stance <- min_Synergy(random_list,stance_num,\"walk4.5km\",\"stance\",col_types)\n",
    "    stance_syn_num <- stance$min_num\n",
    "    stance_best_rand <- stance$best_rand\n",
    "    stance_fpath <- paste(\"/Users/chika/19-yamane-tidyverse/2001-02/\",id,\"/\",stance_best_rand,\"/Synergy/walk4.5km\", sep=\"\")\n",
    "    stance_file <- list.files(stance_fpath,pattern=paste(\"rank=\",stance_syn_num,\"_stance.csv\",sep=\"\"),full.names=T)\n",
    "    stance_Synergy <- read_csv(stance_file,col_types=col_types)\n",
    "            \n",
    "    swing <- min_Synergy(random_list,swing_num,\"walk4.5km\",\"swing\",col_types)\n",
    "    swing_syn_num <- swing$min_num\n",
    "    swing_best_rand <- swing$best_rand\n",
    "    swing_fpath <- paste(\"/Users/chika/19-yamane-tidyverse/2001-02/\",id,\"/\",swing_best_rand,\"/Synergy/walk4.5km\", sep=\"\")\n",
    "    swing_file <- list.files(swing_fpath,pattern=paste(\"rank=\",swing_syn_num,\"_swing.csv\",sep=\"\"),full.names=T)\n",
    "    swing_Synergy <- read_csv(swing_file,col_types=col_types)    \n",
    "            \n",
    "    #歩行の最適なシナジーをプロット\n",
    "    plot_Synergy(stance_fpath,stance_file,stance_syn_num,stance_best_rand,stance_Synergy,id,muscle_num)\n",
    "    plot_Synergy(swing_fpath,swing_file,swing_syn_num,swing_best_rand,swing_Synergy,id)\n",
    "            \n",
    "    #スラックラインの最適なシナジーを決定，歩行との相関係数を計算\n",
    "    for (task in task_list){\n",
    "        slack_num <- c()\n",
    "        if(str_detect(task,pattern=\"slack\")){\n",
    "            task <- sub(\".csv\",\"\",task)\n",
    "            #スラックラインの最適なシナジーを決定\n",
    "            for (rand in random_list){\n",
    "                #シナジーのグラフが保存されているディレクトリ\n",
    "                file_path <- paste(\"/Users/chika/19-yamane-tidyverse/2001-02/\",id,\"/\",rand,\"/Synergy_graph\", sep=\"\")\n",
    "                file_list <- list.files(file_path,pattern=\".pdf\",recursive=F,full.names=F)\n",
    "                file_list <- str_subset(file_list,pattern=\"VAF\",negate=T)\n",
    "                slack_gname <- str_subset(file_list,pattern=task)\n",
    "                slack_fname <- sub(\"pdf\",\"csv\",slack_gname)\n",
    "                read_fname <- paste(sub(\"Synergy_graph\",\"Synergy\",file_path),\"/\",task,\"/\",slack_fname,sep=\"\")\n",
    "                num <- read_csv(read_fname,col_types=col_types)%>%nrow(.)\n",
    "                slack_num <- append(slack_num,num)\n",
    "            }\n",
    "            #スラックラインの最適なシナジーを決定\n",
    "            slack <- min_Synergy(random_list,slack_num,\"slack\",task,col_types)\n",
    "            slack_syn_num <- slack$min_num\n",
    "            slack_best_rand <- slack$best_rand\n",
    "            slack_fpath <- paste(\"/Users/chika/19-yamane-tidyverse/2001-02/\",id,\"/\",slack_best_rand,\"/Synergy/\",task, sep=\"\")\n",
    "            slack_file <- list.files(slack_fpath,pattern=paste(\"rank=\",slack_syn_num,\".csv\",sep=\"\"),full.names=T)\n",
    "            slack_Synergy <- read_csv(slack_file,col_types=col_types)    \n",
    "            slack_fname <- sub(slack_fpath,\"\",slack_file)\n",
    "            plot_Synergy(slack_fpath,slack_file,slack_syn_num,slack_best_rand,slack_Synergy,id,muscle_num)\n",
    "            \n",
    "            #歩行とスラックラインの最適なシナジー同士で相関係数を計算      \n",
    "            Correlation_best(slack_fname,stance_syn_num,stance_Synergy,slack_syn_num,slack_Synergy,id,\"stance\",stance_best_rand,slack_best_rand)\n",
    "            Correlation_best(slack_fname,swing_syn_num,swing_Synergy,slack_syn_num,slack_Synergy,id,\"swing\",swing_best_rand,slack_best_rand)          \n",
    "        }\n",
    "    }\n",
    "}"
   ]
  },
  {
   "cell_type": "markdown",
   "metadata": {},
   "source": [
    "## 歩行（1stride）における係数行列の平均$\\pm$標準偏差を保存"
   ]
  },
  {
   "cell_type": "code",
   "execution_count": 11,
   "metadata": {},
   "outputs": [
    {
     "ename": "ERROR",
     "evalue": "Error in library(readr): there is no package called ‘readr’\n",
     "output_type": "error",
     "traceback": [
      "Error in library(readr): there is no package called ‘readr’\nTraceback:\n",
      "1. library(readr)"
     ]
    }
   ],
   "source": [
    "library(readr)\n",
    "library(Rmisc) #tidtverseより先に読み込む\n",
    "library(tidyverse)\n",
    "library(signal)\n",
    "library(magrittr)\n",
    "library(grid) \n",
    "library(NMF)\n",
    "library(dplyr)\n",
    "library(ggplot2)\n",
    "library(cowplot) \n",
    "library(corrplot) #相関係数のplotに使用\n",
    "library(squash)   #plot時の色指定に使用\n",
    "library(maptools)\n",
    "library(gplots)"
   ]
  },
  {
   "cell_type": "code",
   "execution_count": 12,
   "metadata": {},
   "outputs": [],
   "source": [
    "#labelに該当するphaseの連続回数（1strideのstep数）を求める\n",
    "get_phase_tlist <- function(fdata_walk_labeled,label){\n",
    "    fdata_walk_labeled <- as.data.frame(fdata_walk_labeled)\n",
    "    phase <- fdata_walk_labeled[,ncol(fdata_walk_labeled)]\n",
    "    count <- 0\n",
    "    phase_tlist <- c()\n",
    "    phase_tlist_sum <- c()\n",
    "    for(i in 1:length(phase)){\n",
    "        if(phase[i]==-1&&(phase[i]==0||phase[i]==1)&&(phase[i]==0||phase[i]==1)){ #途中(おかしな場所)でlabelが-1であれば，その前までのphase_tlistを返す \n",
    "            print(\"Warning! The data contains invalid label.\") \n",
    "            break\n",
    "        }\n",
    "        if(phase[i]==label){\n",
    "            count <- count+1\n",
    "        }else if(i>1&&(phase[i-1]==label)&&(phase[i]!=label)){ #立脚期/または遊脚期が終わってからやっと長さ情報追加＝途中で終わった分は追加されない\n",
    "            phase_tlist <- append(phase_tlist,count)\n",
    "            phase_tlist_sum <- cumsum(phase_tlist) #累積和を計算\n",
    "        }else{\n",
    "            count <- 0\n",
    "        }\n",
    "    }\n",
    "\n",
    "    return(list(phase_tlist=phase_tlist, phase_tlist_sum=phase_tlist_sum))\n",
    "}"
   ]
  },
  {
   "cell_type": "code",
   "execution_count": 13,
   "metadata": {},
   "outputs": [],
   "source": [
    "#1strideにおける係数行列のmean±SDを計算/csv,グラフ出力\n",
    "Save_Coef_MEAN_SD <- function(task,rand,phase_str,phase_tlist,phase_tlist_sum,label=label){\n",
    "    #保存するファイルの名前\n",
    "    fpath <- paste(\"/Users/chika/19-yamane-tidyverse/2001-02/\",id,\"/\",rand,\"/Coef/\",task,\"/\",sep=\"\") #係数行列のグラフ名\n",
    "    gpath <- paste(\"/Users/chika/19-yamane-tidyverse/2001-02/\",id,\"/\",rand,\"/Synergy_graph/\",sep=\"\")\n",
    "    fname <- list.files(gpath,pattern=phase_str,full.names=F)%>%sub(\".pdf\",\".csv\",.) \n",
    "    fname_Coef <- paste(fpath, fname, sep=\"\")\n",
    "    Coef <- read_csv(fname_Coef)\n",
    "    fname_MEAN_SD <- sub(\".csv\",\"_MEAN_SD.csv\",fname_Coef)     \n",
    "    \n",
    "    #保存先の作成\n",
    "    ifelse(label==0, x_axis <- \"stance [%]\", x_axis <- \"swing [%]\") \n",
    "    MEAN_SD <- NULL\n",
    "    \n",
    "    Syn_num <- ncol(Coef)\n",
    "    header_list <- c()\n",
    "    for (i in 1:Syn_num){ #各シナジーに対する処理\n",
    "        for (j in 2:length(phase_tlist)){ # 各strideに対する処理， 始めのstride（最初の1周期）は無視して計算\n",
    "            time <- 0:(phase_tlist[j]-1)\n",
    "            norm_time <- sapply(time,function(x) {return(x/max(time))}) #正規化して周期長を0から1に揃える\n",
    "            onecycle <- (phase_tlist_sum[j-1]+1):phase_tlist_sum[j]\n",
    "            onecycle_Coef <- t(Coef[onecycle,i])\n",
    "            print(length(norm_time))\n",
    "            print(length(onecycle_Coef))\n",
    "            sp <- splinefun(norm_time,onecycle_Coef) #関数spを返す \n",
    "            xest <- seq(0,1,by=0.01) #新しい時間軸\n",
    "            yest <- sp(xest) #新しい時間軸に対するCoefの値\n",
    "\n",
    "            if (j==2){\n",
    "                Spline_list <- cbind(xest,yest)\n",
    "            }else{\n",
    "                Spline_list <- bind_cols(as.data.frame(Spline_list), as.data.frame(yest))\n",
    "            }\n",
    "        }\n",
    "        #平均値, SDを計算    \n",
    "        header_mean <- paste(\"Syn\",i,\"mean\",sep=\"\")\n",
    "        header_pSD <- paste(\"Syn\",i,\"mean_psd\",sep=\"\")\n",
    "        header_mSD <- paste(\"Syn\",i,\"mean_msd\",sep=\"\")        \n",
    "        header <- c(header_mean, header_pSD, header_mSD)\n",
    "        header_list <- append(header_list,header)\n",
    "        Stride <- paste(\"Stride\",1:(length(phase_tlist)-1),sep=\"\")\n",
    "        colnames(Spline_list) <- append(Stride,\"time\",after=0)\n",
    "        mean <- apply(Spline_list[,2:length(phase_tlist)], MARGIN=1, mean) #各行（時間）に対して平均値を計算\n",
    "        sd <- apply(Spline_list[,2:length(phase_tlist)], MARGIN=1, sd)        \n",
    "        MEAN_SD <- cbind(MEAN_SD,mean)%>%cbind(.,mean+sd)%>%cbind(.,mean-sd)\n",
    "    }\n",
    "    #平均, 平均+SD, 平均-SD\n",
    "    print(MEAN_SD)    \n",
    "    MEAN_SD <- MEAN_SD%>%set_colnames(header_list)\n",
    "    write_csv(as.data.frame(MEAN_SD),fname_MEAN_SD)\n",
    "}"
   ]
  },
  {
   "cell_type": "code",
   "execution_count": 14,
   "metadata": {},
   "outputs": [
    {
     "ename": "ERROR",
     "evalue": "Error in write_csv(as.data.frame(t(Rand_list)), fname_Randlist): could not find function \"write_csv\"\n",
     "output_type": "error",
     "traceback": [
      "Error in write_csv(as.data.frame(t(Rand_list)), fname_Randlist): could not find function \"write_csv\"\nTraceback:\n"
     ]
    }
   ],
   "source": [
    "ID_list <- c(\"ID1\",\"ID3\",\"ID4\",\"ID5\",\"ID6\",\"ID7\",\"ID8\")\n",
    "Rand_list <- paste(\"Random\",c(5,7,5,10,9,4,9,4,9,5,3,6,3,8),sep=\"\") #最適な筋シナジーの初期値番号（(立脚，遊脚)*各被験者）\n",
    "fname_Randlist <- \"/Users/chika/19-yamane-tidyverse/2001-02/Rand_list.csv\"\n",
    "write_csv(as.data.frame(t(Rand_list)),fname_Randlist)\n",
    "\n",
    "id_num <- 1\n",
    "for (id in ID_list){\n",
    "    #軌道+EMGのtibbleを読み込む\n",
    "    EMG_fpath <- paste(\"/Users/chika/19-yamane-tidyverse/2001-02/\",id,\"/Preprocessed_bind/\",sep=\"\")\n",
    "    fwalk <- list.files(EMG_fpath,pattern=\"walk\")\n",
    "    EMG_fwalk <- paste(EMG_fpath,fwalk,sep=\"\")\n",
    "    \n",
    "    #歩行周期のタイミングを判定\n",
    "    task <- sub(\".csv\",\"\",fwalk)\n",
    "    fdata_walk_labeled <- read_csv(EMG_fwalk,col_types=\"dddddddddddddddddddi\")\n",
    "    res_stance <- get_phase_tlist(fdata_walk_labeled,label=0) #1strideごとのstep数を取得(立脚期)\n",
    "    phase_tlist_stance <- res_stance$phase_tlist \n",
    "    phase_tlist_sum_stance <- res_stance$phase_tlist_sum\n",
    "    res_swing <- get_phase_tlist(fdata_walk_labeled,label=1) #1strideごとのstep数を取得（遊脚期）\n",
    "    phase_tlist_swing <- res_swing$phase_tlist \n",
    "    phase_tlist_sum_swing <- res_swing$phase_tlist_sum\n",
    "\n",
    "    #Coef（平均±SD）のデータ保存\n",
    "    rand_stance <- Rand_list[2*id_num-1]\n",
    "    rand_swing <- Rand_list[2*id_num]\n",
    "    Save_Coef_MEAN_SD(task,rand_stance,\"stance.pdf\",phase_tlist_stance,phase_tlist_sum_stance,label=0) #立脚期\n",
    "    Save_Coef_MEAN_SD(task,rand_swing,\"swing.pdf\",phase_tlist_swing,phase_tlist_sum_swing,label=1) #遊脚期\n",
    "    \n",
    "    id_num <- id_num+1\n",
    "}"
   ]
  },
  {
   "cell_type": "code",
   "execution_count": null,
   "metadata": {
    "collapsed": true,
    "jupyter": {
     "outputs_hidden": true
    }
   },
   "outputs": [],
   "source": []
  },
  {
   "cell_type": "markdown",
   "metadata": {},
   "source": [
    "### 以下お試し用セル"
   ]
  },
  {
   "cell_type": "code",
   "execution_count": 15,
   "metadata": {},
   "outputs": [
    {
     "name": "stderr",
     "output_type": "stream",
     "text": [
      "Warning message in file(file, \"rt\"):\n",
      "“cannot open file 'kari_data2.txt': No such file or directory”\n"
     ]
    },
    {
     "ename": "ERROR",
     "evalue": "Error in file(file, \"rt\"): cannot open the connection\n",
     "output_type": "error",
     "traceback": [
      "Error in file(file, \"rt\"): cannot open the connection\nTraceback:\n",
      "1. read.table(\"kari_data2.txt\", sep = \"\\t\", header = T, row.names = 1)",
      "2. file(file, \"rt\")"
     ]
    }
   ],
   "source": [
    "count <- read.table(\"kari_data2.txt\", sep = \"\\t\", header = T, row.names = 1)\n",
    "print(count)\n",
    "count <- as_tibble(count)\n",
    "count_data <- transmute_all(count,~sum(.x))%>%slice(.,1)%>%as.numeric(count_data)\n",
    "count_sum <- count_data%>%sum(.)\n",
    "print(count_sum)\n",
    "aaa <- sort(count_data)\n",
    "print(aaa)"
   ]
  },
  {
   "cell_type": "code",
   "execution_count": 16,
   "metadata": {},
   "outputs": [
    {
     "name": "stdout",
     "output_type": "stream",
     "text": [
      "[1] 4\n"
     ]
    }
   ],
   "source": [
    "data <- c(1,2,9,-1)\n",
    "sortlist <- order(data)\n",
    "print(sortlist[1])"
   ]
  },
  {
   "cell_type": "code",
   "execution_count": 17,
   "metadata": {},
   "outputs": [
    {
     "ename": "ERROR",
     "evalue": "Error in parse(text = x, srcfile = src): <text>:2:23: unexpected symbol\n1: x <- matrix(1:9, 3, 3)\n2: y <- matrix(1:9, 3, 3)spr0\n                         ^\n",
     "output_type": "error",
     "traceback": [
      "Error in parse(text = x, srcfile = src): <text>:2:23: unexpected symbol\n1: x <- matrix(1:9, 3, 3)\n2: y <- matrix(1:9, 3, 3)spr0\n                         ^\nTraceback:\n"
     ]
    }
   ],
   "source": [
    "x <- matrix(1:9, 3, 3)\n",
    "y <- matrix(1:9, 3, 3)spr0\n",
    "x %*% y\n",
    "crossprod(x,y)"
   ]
  },
  {
   "cell_type": "code",
   "execution_count": 18,
   "metadata": {},
   "outputs": [
    {
     "name": "stderr",
     "output_type": "stream",
     "text": [
      "Warning message in file(file, \"rt\"):\n",
      "“cannot open file 'kari_data.txt': No such file or directory”\n"
     ]
    },
    {
     "ename": "ERROR",
     "evalue": "Error in file(file, \"rt\"): cannot open the connection\n",
     "output_type": "error",
     "traceback": [
      "Error in file(file, \"rt\"): cannot open the connection\nTraceback:\n",
      "1. read.table(\"kari_data.txt\", sep = \"\\t\", header = T, row.names = 1)",
      "2. file(file, \"rt\")"
     ]
    }
   ],
   "source": [
    "count <- read.table(\"kari_data.txt\", sep = \"\\t\", header = T, row.names = 1)\n",
    "count <- as_tibble(count)\n",
    "count <- as.data.frame(count)\n",
    "# print(count)\n",
    "one <- count[,1]\n",
    "print(one)"
   ]
  },
  {
   "cell_type": "code",
   "execution_count": 19,
   "metadata": {},
   "outputs": [
    {
     "name": "stderr",
     "output_type": "stream",
     "text": [
      "Warning message in file(file, \"rt\"):\n",
      "“cannot open file 'kari_data2.txt': No such file or directory”\n"
     ]
    },
    {
     "ename": "ERROR",
     "evalue": "Error in file(file, \"rt\"): cannot open the connection\n",
     "output_type": "error",
     "traceback": [
      "Error in file(file, \"rt\"): cannot open the connection\nTraceback:\n",
      "1. read.table(\"kari_data2.txt\", sep = \"\\t\", header = T, row.names = 1)",
      "2. file(file, \"rt\")"
     ]
    }
   ],
   "source": [
    "count <- read.table(\"kari_data2.txt\", sep = \"\\t\", header = T, row.names = 1)\n",
    "print(count)\n",
    "mcor <- cor(count)\n",
    "# mcor <- as_tibble(mcor)\n",
    "# round(mcor,digits=4) \n",
    "col1 <- cm.colors\n",
    "col2 <- gplots::colorpanel(n=256, low=\"deepskyblue\", mid=\"white\", high=\"violetred\")\n",
    "cex.before <- par(\"cex\")\n",
    "par(cex = 0.7) #テキストのサイズを小さくする\n",
    "corrplot(mcor,method=\"shade\",shade.col=NA,\n",
    "         tl.col=\"black\",tl.srt=45,#type=\"upper\",diag=FALSE,\n",
    "         col=col1(200),number.digits=4,addCoef.col=\"black\") #相関係数を有効数字4桁で表示\n",
    "corrplot(mcor,method=\"shade\",shade.col=NA,\n",
    "         tl.col=\"black\",tl.srt=45,#type=\"upper\",diag=FALSE,\n",
    "         col=col2,addCoef.col=\"black\")\n"
   ]
  },
  {
   "cell_type": "code",
   "execution_count": 20,
   "metadata": {},
   "outputs": [
    {
     "ename": "ERROR",
     "evalue": "Error in loadNamespace(name): there is no package called ‘dplyr’\n",
     "output_type": "error",
     "traceback": [
      "Error in loadNamespace(name): there is no package called ‘dplyr’\nTraceback:\n",
      "1. dplyr::filter",
      "2. getExportedValue(pkg, name)",
      "3. asNamespace(ns)",
      "4. getNamespace(ns)",
      "5. loadNamespace(name)",
      "6. withRestarts(stop(cond), retry_loadNamespace = function() NULL)",
      "7. withOneRestart(expr, restarts[[1L]])",
      "8. doWithOneRestart(return(expr), restart)"
     ]
    }
   ],
   "source": [
    "df <- data.frame(x0 = 1:10,\n",
    "                x1 = 11:20,\n",
    "                s = sample(c(\"kosaki\", \"chitoge\", \"marika\"), 10,\n",
    "                           replace = TRUE),\n",
    "                s2 = sample(c(\"kosaki\", \"chitoge\", NA), 10,\n",
    "                            replace = TRUE),\n",
    "                row.names = letters[1:10])\n",
    "dplyr::filter(df, x0==4)"
   ]
  },
  {
   "cell_type": "code",
   "execution_count": 21,
   "metadata": {},
   "outputs": [
    {
     "ename": "ERROR",
     "evalue": "Error in parse(text = x, srcfile = src): <text>:3:37: unexpected input\n2:     fname_walk <- str_subset(file_list,pattern=\"walk\")\n3:     for (j in 1:length(file_list)){ 　\n                                       ^\n",
     "output_type": "error",
     "traceback": [
      "Error in parse(text = x, srcfile = src): <text>:3:37: unexpected input\n2:     fname_walk <- str_subset(file_list,pattern=\"walk\")\n3:     for (j in 1:length(file_list)){ 　\n                                       ^\nTraceback:\n"
     ]
    }
   ],
   "source": [
    "NMF_analysis <- function(file_list,muscle_num,label){\n",
    "    fname_walk <- str_subset(file_list,pattern=\"walk\")\n",
    "    for (j in 1:length(file_list)){ 　　#各試行のファイル\n",
    "        if(str_detect(file_list[j],pattern=\"slack\")){\n",
    "            fname_slack <- file_list[j]\n",
    "            print(fname_slack)\n",
    "        }\n",
    "    }\n",
    "    return(\"aaa\")\n",
    "}        \n",
    "\n",
    "id_list <- list(\"ID1\")　#被験者のIDリストを入力\n",
    "for (id in id_list){　　　#各被験者のデータ\n",
    "    print(id)\n",
    "    file_path <- paste(\"/Users/chika/19-yamane-tidyverse/1901-02/\", id,\"/Preprocessed\", sep=\"\")\n",
    "    file_list <- list.files(path=file_path, pattern=\".csv\",recursive=F,full.names=T) #フルパスで取得\n",
    "    stance <- NMF_analysis(file_list,muscle_num=14, label=0)\n",
    "    swing <- NMF_analysis(file_list,muscle_num=14, label=1)\n",
    "}   "
   ]
  },
  {
   "cell_type": "code",
   "execution_count": 22,
   "metadata": {},
   "outputs": [
    {
     "name": "stdout",
     "output_type": "stream",
     "text": [
      "[1] \"Synergy1\" \"Synergy2\" \"Synergy3\"\n"
     ]
    }
   ],
   "source": [
    "row_names <- paste(\"Synergy\",1:3,sep=\"\")\n",
    "print(row_names)\n"
   ]
  },
  {
   "cell_type": "code",
   "execution_count": 23,
   "metadata": {},
   "outputs": [
    {
     "name": "stdout",
     "output_type": "stream",
     "text": [
      "     [,1] [,2]\n",
      "[1,]    1    4\n",
      "[2,]    2    5\n",
      "[3,]    3    6\n",
      "           walk_syn1 walk_syn2\n",
      "slack_syn1         1         4\n",
      "slack_syn2         2         5\n",
      "slack_syn3         3         6\n"
     ]
    }
   ],
   "source": [
    "H_list <- list()\n",
    "matrix1 <- matrix(1:6,nrow=2,ncol=3)\n",
    "matrix2 <- matrix(7:12,nrow=2,ncol=3)\n",
    "matrix1 <- as.data.frame(matrix1)\n",
    "matrix2 <- as.data.frame(matrix2)\n",
    "H_list <- append(H_list, matrix1)\n",
    "H_list <- append(H_list, matrix2)\n",
    "# H_list <- as.data.frame(matrix2)\n",
    "\n",
    "mat <- matrix(c(1,2,3,4,5,6),nrow=3, ncol=2)\n",
    "print(mat)\n",
    "colnames(mat) <- paste(\"walk_syn\",1:2,sep=\"\")\n",
    "rownames(mat) <- paste(\"slack_syn\",1:3,sep=\"\")\n",
    "print(mat)\n"
   ]
  },
  {
   "cell_type": "code",
   "execution_count": 24,
   "metadata": {},
   "outputs": [
    {
     "name": "stdout",
     "output_type": "stream",
     "text": [
      "[1] \"list\"\n"
     ]
    },
    {
     "data": {
      "text/html": [
       "<strong>png:</strong> 2"
      ],
      "text/latex": [
       "\\textbf{png:} 2"
      ],
      "text/markdown": [
       "**png:** 2"
      ],
      "text/plain": [
       "png \n",
       "  2 "
      ]
     },
     "metadata": {},
     "output_type": "display_data"
    }
   ],
   "source": [
    "vec1 <- c(1,3,5)\n",
    "vec2 <- c(2,4,6)\n",
    "vec <- rbind(vec1,vec2)\n",
    "# rownames(vec) <- paste(\"a\",1:2,sep=\"\")\n",
    "# colnames(vec) <- paste(\"b\",1:3,sep=\"\")\n",
    "vec <- as.data.frame(vec)\n",
    "print(mode(vec))\n",
    "\n",
    "name <- \"vec.pdf\"\n",
    "pdf(name)\n",
    "plot(1:3,vec1,xlim=c(1,3),ylim=c(0,10))\n",
    "abline(h=2,col=\"red\")\n",
    "par(new=T)\n",
    "plot(1:3,vec2,xlim=c(1,3),ylim=c(0,10))\n",
    "abline(h=4,col=\"blue\")\n",
    "dev.off()\n",
    "# vec <- as_tibble(vec)\n",
    "# print(mode(vec))\n",
    "# print(vec)\n",
    "# write_csv(vec,\"vec\")"
   ]
  },
  {
   "cell_type": "code",
   "execution_count": 25,
   "metadata": {},
   "outputs": [
    {
     "name": "stdout",
     "output_type": "stream",
     "text": [
      " [1]  0  0  0  0  0  0  1  1  1  1  1  1  0  0  0 10 45\n",
      " [1]  0  0  0  0  0  0  1  1  1  1  1  1  0  0  0 10\n"
     ]
    }
   ],
   "source": [
    "vec <- c(0,0,0,0,0,0,1,1,1,1,1,1,0,0,0)\n",
    "start <- 10\n",
    "end <- 45\n",
    "one_phase <- c(start,end)\n",
    "vec <- append(vec,one_phase)\n",
    "print(vec)\n",
    "vec <- vec[-(length(vec))] #最後の一つの要素除去\n",
    "print(vec)"
   ]
  },
  {
   "cell_type": "code",
   "execution_count": 26,
   "metadata": {},
   "outputs": [
    {
     "name": "stdout",
     "output_type": "stream",
     "text": [
      "[1] 6 5 4\n",
      "[1]  6 11 15\n",
      "      [,1] [,2] [,3]\n",
      " [1,]    1   35   69\n",
      " [2,]    2   36   70\n",
      " [3,]    3   37   71\n",
      " [4,]    4   38   72\n",
      " [5,]    5   39   73\n",
      " [6,]    6   40   74\n",
      " [7,]    7   41   75\n",
      " [8,]    8   42   76\n",
      " [9,]    9   43   77\n",
      "[10,]   10   44   78\n",
      "[11,]   11   45   79\n",
      "[12,]   12   46   80\n",
      "[13,]   13   47   81\n",
      "[14,]   14   48   82\n",
      "[15,]   15   49   83\n",
      "[16,]   16   50   84\n",
      "[17,]   17   51   85\n",
      "[18,]   18   52   86\n",
      "[19,]   19   53   87\n",
      "[20,]   20   54   88\n",
      "[21,]   21   55   89\n",
      "[22,]   22   56   90\n",
      "[23,]   23   57   91\n",
      "[24,]   24   58   92\n",
      "[25,]   25   59   93\n",
      "[26,]   26   60   94\n",
      "[27,]   27   61   95\n",
      "[28,]   28   62   96\n",
      "[29,]   29   63   97\n",
      "[30,]   30   64   98\n",
      "[31,]   31   65   99\n",
      "[32,]   32   66  100\n",
      "[33,]   33   67  101\n",
      "[34,]   34   68  102\n"
     ]
    },
    {
     "ename": "ERROR",
     "evalue": "Error in bind_cols(as.data.frame(Spline_list), as.data.frame(yest)): could not find function \"bind_cols\"\n",
     "output_type": "error",
     "traceback": [
      "Error in bind_cols(as.data.frame(Spline_list), as.data.frame(yest)): could not find function \"bind_cols\"\nTraceback:\n"
     ]
    }
   ],
   "source": [
    "#筋シナジーのmultiplot\n",
    "multiplot <- function(..., plotlist=NULL, file, cols=1, layout=NULL,graph_text=NULL) {\n",
    "    plots <- c(list(...), plotlist) # Make a list from the ... arguments and plotlist\n",
    "    numPlots = length(plots)\n",
    "    if (is.null(layout)) {  # If layout is NULL, then use 'cols' to determine layout\n",
    "        layout <- matrix(seq(1, cols * ceiling(numPlots/cols)),\n",
    "                    ncol = cols, nrow = ceiling(numPlots/cols))\n",
    "    }\n",
    "    if (numPlots==1){\n",
    "        print(plots[[1]])\n",
    "    }else{\n",
    "        grid.newpage() # Set up the page\n",
    "        par(oma = c(0, 0, 4, 0))   # 下・左・上・右の順で余白を設定\n",
    "        pushViewport(viewport(layout = grid.layout(nrow(layout), ncol(layout))))\n",
    "        for (i in 1:numPlots) {  # Make each plot, in the correct location\n",
    "            matchidx <- as.data.frame(which(layout == i, arr.ind = TRUE)) # Get the i,j matrix positions of the regions that contain this subplot\n",
    "            print(plots[[i]], vp=viewport(layout.pos.row=matchidx$row, layout.pos.col=matchidx$col))\n",
    "        }\n",
    "    }       \n",
    "}\n",
    "\n",
    "#データフレームからphaseの列を抽出し，ベクトル化\n",
    "phase <- c(-1,-1,0,0,0,0,0,0,1,1,1,1,1,1,0,0,0,1,1,1,1,1,0,0,0,0,0,1,1,1,1,-1,-1,-1)\n",
    "label <- 1\n",
    "\n",
    "count <- 0\n",
    "#labelに該当するphaseの連続回数（1strideのstep数）を求める\n",
    "phase_tlist <- c()\n",
    "phase_tlist_sum <- c()\n",
    "for(i in 1:length(phase)){\n",
    "#     if(phase[i]==-1){ #途中でlabelが-1であれば，その前までのphase_tlistを返す\n",
    "#         print(\"Warning! The data contains invalid label.\") \n",
    "#         break\n",
    "#     }\n",
    "    if(phase[i]==label){\n",
    "        count <- count+1\n",
    "    }else if(i>1&&(phase[i-1]==label)&&(phase[i]!=label)){ #立脚期/または遊脚期が終わってからやっと長さ情報追加＝途中で終わった分は追加されない\n",
    "        phase_tlist <- append(phase_tlist,count)\n",
    "        phase_tlist_sum <- cumsum(phase_tlist) #累積和を計算\n",
    "    }else{\n",
    "        count <- 0\n",
    "    }\n",
    "}\n",
    "print(phase_tlist)\n",
    "print(phase_tlist_sum)\n",
    "#return(phase_tlist=phase_tlist, phase_tlist_sum=phase_tlist_sum)\n",
    "    \n",
    "#係数行列の平均±SDをもとめる\n",
    "plots <- list()\n",
    "Coef <- matrix(1:(length(phase)*3), nrow=length(phase), ncol=3)\n",
    "print(Coef)\n",
    "for (i in 1:ncol(Coef)){ #各シナジーに対する処理\n",
    "    for (j in 2:length(phase_tlist)){ # 各strideに対する処理， 始めのstride（最初の1周期）は無視して計算\n",
    "        time <- 0:(phase_tlist[j]-1)\n",
    "        norm_time <- sapply(time,function(x) {return(x/max(time))}) #正規化して周期長を0から1に揃える\n",
    "        onecycle <- (phase_tlist_sum[j-1]+1):phase_tlist_sum[j]\n",
    "        onecycle_Coef <- Coef[onecycle,i]\n",
    "        sp <- splinefun(norm_time,onecycle_Coef) #関数spを返す \n",
    "        xest <- seq(0,1,by=0.01) #新しい時間軸\n",
    "        yest <- sp(xest) #新しい時間軸に対するCoefの値\n",
    "        \n",
    "        if (j==2){\n",
    "            Spline_list <- cbind(xest,yest)\n",
    "        }else{\n",
    "            Spline_list <- bind_cols(as.data.frame(Spline_list), as.data.frame(yest))\n",
    "        }\n",
    "    }\n",
    "    #平均値, SDを計算    \n",
    "    Stride <- paste(\"Stride\",1:(length(phase_tlist)-1),sep=\"\")\n",
    "    colnames(Spline_list) <- append(Stride,\"time\",after=0)\n",
    "    mean <- apply(Spline_list[,2:length(phase_tlist)], MARGIN=1, mean) #各行（時間）に対して平均値を計算\n",
    "    sd <- apply(Spline_list[,2:length(phase_tlist)], MARGIN=1, sd)\n",
    "    \n",
    "    #平均値,SDのggplot作成\n",
    "    print(i)\n",
    "    plot_title_Coef <- paste(\"Coef\",i,sep=\"\")\n",
    "    Coef_data <- data.frame(stance_phase=xest, mean=mean, sd=sd)\n",
    "    Coef_plot <- ggplot(data=Coef_data,)+\n",
    "                    geom_line(aes(x=stance_phase,y=mean))+\n",
    "                    geom_line(aes(x=stance_phase,y=mean+sd),colour=\"gray57\")+\n",
    "                    geom_line(aes(x=stance_phase,y=mean-sd),colour=\"gray57\")+\n",
    "                    xlab(\"Stance phase\") + ylab(\"Activity of Synergy\")+\n",
    "                    labs(title=plot_title_Coef)+ \n",
    "                    theme(axis.title=element_text(size=3,face=\"plain\"))+\n",
    "                    theme_minimal() #背景の色変更\n",
    "    plots[[i]] <- Coef_plot\n",
    "}\n",
    "    \n",
    "#平均値，SDのmultiplot\n",
    "gname_Coef <- \"Coef.pdf\"\n",
    "pdf(gname_Coef)\n",
    "multiplot(plotlist=plots,cols=2)\n",
    "dev.off() \n",
    "    \n",
    "print(nrow(Coef))\n",
    "print(length(phase))"
   ]
  },
  {
   "cell_type": "code",
   "execution_count": null,
   "metadata": {},
   "outputs": [],
   "source": [
    "a <- c(1,2,3,4) \n",
    "a[c(-1:-2,-4)]\n",
    "length(a)"
   ]
  },
  {
   "cell_type": "code",
   "execution_count": null,
   "metadata": {},
   "outputs": [],
   "source": [
    "random <- c(paste(\"Random\",1:10,sep=\"\"))\n",
    "print(random)"
   ]
  },
  {
   "cell_type": "code",
   "execution_count": null,
   "metadata": {},
   "outputs": [],
   "source": [
    "ceiling(12.5)"
   ]
  },
  {
   "cell_type": "code",
   "execution_count": 27,
   "metadata": {},
   "outputs": [
    {
     "ename": "ERROR",
     "evalue": "Error in sub(\"b\", \"\", a): object 'a' not found\n",
     "output_type": "error",
     "traceback": [
      "Error in sub(\"b\", \"\", a): object 'a' not found\nTraceback:\n",
      "1. sub(\"b\", \"\", a)"
     ]
    }
   ],
   "source": [
    "\n",
    "a <- sub(\"b\",\"\",a)\n",
    "print(a)"
   ]
  },
  {
   "cell_type": "code",
   "execution_count": 28,
   "metadata": {},
   "outputs": [
    {
     "name": "stdout",
     "output_type": "stream",
     "text": [
      "[1] \"aaa_\"\n"
     ]
    }
   ],
   "source": [
    "a <- \"aaa_rank=4\"\n",
    "#separ以降の文字列を削除\n",
    "splitLeft<-function(str,separ){\n",
    "        strsplit(str,separ)[[1]][[1]]\n",
    "}\n",
    "b <- splitLeft(a,\"rank\")\n",
    "print(b)"
   ]
  },
  {
   "cell_type": "code",
   "execution_count": 29,
   "metadata": {},
   "outputs": [
    {
     "ename": "ERROR",
     "evalue": "Error in c() %>% a: could not find function \"%>%\"\n",
     "output_type": "error",
     "traceback": [
      "Error in c() %>% a: could not find function \"%>%\"\nTraceback:\n"
     ]
    }
   ],
   "source": [
    "a <- c(\"aaa\",\"bbb\")\n",
    "d <- c()%>%a\n",
    "print(d)"
   ]
  },
  {
   "cell_type": "code",
   "execution_count": 30,
   "metadata": {},
   "outputs": [
    {
     "name": "stdout",
     "output_type": "stream",
     "text": [
      "[1]  1  5  6  7  8  9 10\n"
     ]
    }
   ],
   "source": [
    "a <- c(5,6,6,7,5,5,5,5,5,5)\n",
    "min <- min(a)\n",
    "min <- which(a==min)\n",
    "print(min)"
   ]
  },
  {
   "cell_type": "code",
   "execution_count": 31,
   "metadata": {},
   "outputs": [
    {
     "ename": "ERROR",
     "evalue": "Error in cbind(MEAN_SD, mean) %>% cbind(., mean + sd) %>% cbind(., mean - : could not find function \"%>%\"\n",
     "output_type": "error",
     "traceback": [
      "Error in cbind(MEAN_SD, mean) %>% cbind(., mean + sd) %>% cbind(., mean - : could not find function \"%>%\"\nTraceback:\n"
     ]
    }
   ],
   "source": [
    "mean <- c(1,3,4,5)\n",
    "sd <- c(0.2,0.4,0.3,0.1)\n",
    "MEAN_SD <- NULL\n",
    "MEAN_SD <- cbind(MEAN_SD,mean)%>%cbind(.,mean+sd)%>%cbind(.,mean-sd)\n",
    "print(MEAN_SD)"
   ]
  },
  {
   "cell_type": "code",
   "execution_count": 32,
   "metadata": {},
   "outputs": [
    {
     "ename": "ERROR",
     "evalue": "Error in append(li, a) %>% append(., b): could not find function \"%>%\"\n",
     "output_type": "error",
     "traceback": [
      "Error in append(li, a) %>% append(., b): could not find function \"%>%\"\nTraceback:\n"
     ]
    }
   ],
   "source": [
    "li <- c()\n",
    "for (i in 1:10){\n",
    "    a <- paste(\"Stance_rand\",i,sep=\"\")\n",
    "    b <- paste(\"Swing_rand\",i,sep=\"\")\n",
    "    li <- append(li,a)%>%append(.,b)\n",
    "}    \n",
    "print(li)"
   ]
  },
  {
   "cell_type": "code",
   "execution_count": null,
   "metadata": {
    "collapsed": true,
    "jupyter": {
     "outputs_hidden": true
    }
   },
   "outputs": [],
   "source": []
  },
  {
   "cell_type": "code",
   "execution_count": null,
   "metadata": {},
   "outputs": [],
   "source": []
  },
  {
   "cell_type": "code",
   "execution_count": null,
   "metadata": {},
   "outputs": [],
   "source": []
  },
  {
   "cell_type": "code",
   "execution_count": null,
   "metadata": {},
   "outputs": [],
   "source": []
  },
  {
   "cell_type": "code",
   "execution_count": null,
   "metadata": {},
   "outputs": [],
   "source": []
  },
  {
   "cell_type": "code",
   "execution_count": null,
   "metadata": {},
   "outputs": [],
   "source": []
  },
  {
   "cell_type": "code",
   "execution_count": null,
   "metadata": {},
   "outputs": [],
   "source": []
  },
  {
   "cell_type": "code",
   "execution_count": null,
   "metadata": {},
   "outputs": [],
   "source": []
  },
  {
   "cell_type": "code",
   "execution_count": null,
   "metadata": {},
   "outputs": [],
   "source": []
  },
  {
   "cell_type": "code",
   "execution_count": null,
   "metadata": {},
   "outputs": [],
   "source": []
  },
  {
   "cell_type": "code",
   "execution_count": null,
   "metadata": {},
   "outputs": [],
   "source": []
  },
  {
   "cell_type": "code",
   "execution_count": null,
   "metadata": {},
   "outputs": [],
   "source": []
  },
  {
   "cell_type": "code",
   "execution_count": null,
   "metadata": {},
   "outputs": [],
   "source": []
  },
  {
   "cell_type": "code",
   "execution_count": null,
   "metadata": {},
   "outputs": [],
   "source": []
  },
  {
   "cell_type": "code",
   "execution_count": null,
   "metadata": {},
   "outputs": [],
   "source": []
  },
  {
   "cell_type": "code",
   "execution_count": null,
   "metadata": {},
   "outputs": [],
   "source": []
  }
 ],
 "metadata": {
  "kernelspec": {
   "display_name": "R",
   "language": "R",
   "name": "ir"
  },
  "language_info": {
   "codemirror_mode": "r",
   "file_extension": ".r",
   "mimetype": "text/x-r-source",
   "name": "R",
   "pygments_lexer": "r",
   "version": "4.0.3"
  }
 },
 "nbformat": 4,
 "nbformat_minor": 4
}
