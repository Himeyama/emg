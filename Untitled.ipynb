{
 "cells": [
  {
   "cell_type": "code",
   "execution_count": 3,
   "metadata": {},
   "outputs": [],
   "source": [
    "!bundle exec emgcsv ~/yu-research/EX/201223-01-M/EMG/naname3-1.pstore > tmp.csv"
   ]
  },
  {
   "cell_type": "code",
   "execution_count": 27,
   "metadata": {},
   "outputs": [
    {
     "name": "stdout",
     "output_type": "stream",
     "text": [
      "[[0.00000000e+00 2.36421357e-05 8.53879519e-05 2.09396670e-05\n",
      "  1.01955794e-04 4.22940939e-05]\n",
      " [2.92174141e-07 2.73232393e-05 9.71204581e-05 2.61176512e-05\n",
      "  1.06629436e-04 4.55588895e-05]\n",
      " [3.08283227e-06 3.09332275e-05 1.08701974e-04 3.09618940e-05\n",
      "  1.14993957e-04 4.89488832e-05]\n",
      " ...\n",
      " [3.52170323e-08 2.20855419e-08 4.22650886e-08 5.97663907e-09\n",
      "  1.35350032e-07 0.00000000e+00]\n",
      " [2.96632298e-08 1.85199263e-08 3.53790539e-08 5.21735307e-09\n",
      "  1.13424367e-07 0.00000000e+00]\n",
      " [2.47698023e-08 1.53948055e-08 2.93552993e-08 4.51039805e-09\n",
      "  9.42205306e-08 0.00000000e+00]]\n"
     ]
    }
   ],
   "source": [
    "from exe import bandpass\n",
    "import numpy as np\n",
    "import matplotlib.pyplot as plt\n",
    "from sklearn.decomposition import NMF\n",
    "\n",
    "f = 1925.926\n",
    "\n",
    "ys = np.loadtxt(\"tmp.csv\", delimiter=\",\").T\n",
    "filtered = np.zeros((ys.shape))\n",
    "x = np.arange(len(ys[0])) / f\n",
    "for i, y in enumerate(ys):\n",
    "    y2 = bandpass.bandpass(y, f, np.array([10, 15]), np.array([3, 25]), 2, 30)\n",
    "    y2abs = np.abs(y2)\n",
    "    filtered[i] = y2abs\n",
    "#     plt.plot(x, y2abs)\n",
    "#     plt.show()\n",
    "\n",
    "filtered = filtered.T\n",
    "# print(filtered)\n",
    "\n",
    "nmf = NMF(n_components=6)\n",
    "nmf.fit(filtered)\n",
    "w = nmf.fit_transform(filtered)\n",
    "print(w)"
   ]
  },
  {
   "cell_type": "code",
   "execution_count": null,
   "metadata": {},
   "outputs": [],
   "source": []
  }
 ],
 "metadata": {
  "kernelspec": {
   "display_name": "Python 3",
   "language": "python",
   "name": "python3"
  },
  "language_info": {
   "codemirror_mode": {
    "name": "ipython",
    "version": 3
   },
   "file_extension": ".py",
   "mimetype": "text/x-python",
   "name": "python",
   "nbconvert_exporter": "python",
   "pygments_lexer": "ipython3",
   "version": "3.8.5"
  }
 },
 "nbformat": 4,
 "nbformat_minor": 4
}
